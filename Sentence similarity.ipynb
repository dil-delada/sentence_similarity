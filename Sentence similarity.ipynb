{
 "cells": [
  {
   "cell_type": "code",
   "execution_count": 67,
   "metadata": {},
   "outputs": [],
   "source": [
    "import pandas as pd\n",
    "import numpy as np\n",
    "import math \n",
    "import matplotlib.pyplot as plt\n",
    "%matplotlib inline \n",
    "import nltk\n",
    "from nltk.tokenize import sent_tokenize\n",
    "from nltk.tokenize import word_tokenize\n",
    "from sklearn.feature_extraction.text import CountVectorizer\n",
    "import spaCy\n",
    "from scipy import stats\n",
    "import gensim.models\n",
    "import statistics"
   ]
  },
  {
   "cell_type": "code",
   "execution_count": 3,
   "metadata": {},
   "outputs": [],
   "source": [
    "#read data\n",
    "faq = pd.read_csv(\"data.csv\", encoding='latin-1')"
   ]
  },
  {
   "cell_type": "code",
   "execution_count": null,
   "metadata": {},
   "outputs": [],
   "source": [
    "faq.shape"
   ]
  },
  {
   "cell_type": "code",
   "execution_count": null,
   "metadata": {},
   "outputs": [],
   "source": [
    "faq.isnull().sum()"
   ]
  },
  {
   "cell_type": "code",
   "execution_count": 7,
   "metadata": {},
   "outputs": [],
   "source": [
    "#keep only questions with synonims check metrices\n",
    "\n",
    "questions = faq[\"Q\"]\n",
    "synonims = faq[\"S\"]\n",
    "\n",
    "no_syn = []\n",
    "for i in range(synonims.shape[0]):\n",
    "    if pd.isnull(synonims[i]):\n",
    "        no_syn.append(i)\n",
    "        \n",
    "questions.drop(no_syn, inplace=True)\n",
    "synonims.drop(no_syn, inplace=True)"
   ]
  },
  {
   "cell_type": "code",
   "execution_count": 8,
   "metadata": {},
   "outputs": [],
   "source": [
    "#data preprocessing\n",
    "#delete punctuation and stopwords\n",
    "\n",
    "def tokenization(text):\n",
    "    stopwords = nltk.corpus.stopwords.words('english')\n",
    "    punctuation = [\"?\", \"!\", \".\", \",\", \";\", \":\", \"...\", \"(\", \")\", \"[\", \"]\", \"_\", \"-\"]  \n",
    "    text = [str(k) for k in text.values]\n",
    "    sents = []\n",
    "    for sent in text:\n",
    "        tokenised_sent = word_tokenize(sent)\n",
    "        tokenised_sent = [k for k in tokenised_sent if k not in punctuation and k not in stopwords]\n",
    "        sents.append(tokenised_sent)\n",
    "    return sents\n",
    "\n",
    "words_q = tokenization(questions)\n",
    "words_s = tokenization(synonims)"
   ]
  },
  {
   "cell_type": "code",
   "execution_count": 9,
   "metadata": {},
   "outputs": [],
   "source": [
    "#stemmatizatoin\n",
    "\n",
    "def stemmatization(words):\n",
    "    snowball_stemmer = nltk.SnowballStemmer('english')\n",
    "    stemmed = []\n",
    "    for w in words:\n",
    "        stemmed.append([snowball_stemmer.stem(k.lower()) for k in w])\n",
    "    return stemmed\n",
    "\n",
    "stemmed_q = stemmatization(words_q)\n",
    "stemmed_s = stemmatization(words_s)"
   ]
  },
  {
   "cell_type": "code",
   "execution_count": 10,
   "metadata": {},
   "outputs": [],
   "source": [
    "#first method\n",
    "#bag of words for preprocessed questions\n",
    "\n",
    "def join_fun(words): \n",
    "    text = []\n",
    "    for w in words:\n",
    "        text.append(' '.join(w))\n",
    "    return text\n",
    "\n",
    "words_q_ = tokenization(stemmed_q)\n",
    "words_s = tokenization(stemmed_s)\n",
    "text_q = join_fun(stemmed_q)\n",
    "text_s = join_fun(stemmed_s)\n",
    "\n",
    "vectorizer = CountVectorizer()\n",
    "bow = vectorizer.fit(text_q + text_s)\n",
    "bag_q = bow.transform(text_q).toarray()\n",
    "bag_s = bow.transform(text_s).toarray()"
   ]
  },
  {
   "cell_type": "code",
   "execution_count": 48,
   "metadata": {},
   "outputs": [
    {
     "data": {
      "image/png": "[encoded data removed]",
      "text/plain": [
       "<matplotlib.figure.Figure at 0x19c11844ba8>"
      ]
     },
     "metadata": {},
     "output_type": "display_data"
    }
   ],
   "source": [
    "#using cosine similarity\n",
    "\n",
    "def cosine(vector1, vector2):\n",
    "    ab = 0\n",
    "    a = 0\n",
    "    b = 0\n",
    "    for i in range(vector1.shape[0]):\n",
    "        ab += vector1[i]*vector2[i]\n",
    "        a += math.pow(vector1[i],2)\n",
    "        b += math.pow(vector2[i],2)\n",
    "    return ab/(math.sqrt(a)*math.sqrt(b))\n",
    "    \n",
    "metric = []    \n",
    "for i in range(bag_q.shape[0]):\n",
    "    metric.append(cosine(bag_q[i], bag_s[i]))\n",
    "    \n",
    "plt.hist(metric, bins='auto')\n",
    "plt.title(\"Histogram of cosine metric between vectors obtained by BoW with preprocessing\")\n",
    "plt.xlabel('Cosine metric')\n",
    "plt.ylabel('Frequency')\n",
    "plt.show()"
   ]
  },
  {
   "cell_type": "code",
   "execution_count": 49,
   "metadata": {},
   "outputs": [
    {
     "data": {
      "image/png": "[encoded data removed]",
      "text/plain": [
       "<matplotlib.figure.Figure at 0x19c118725f8>"
      ]
     },
     "metadata": {},
     "output_type": "display_data"
    }
   ],
   "source": [
    "#bag of words for non-preprocessed questions\n",
    "\n",
    "bow_non = vectorizer.fit(questions + synonims)\n",
    "bag_q_non = bow.transform(questions).toarray()\n",
    "bag_s_non = bow.transform(synonims).toarray()\n",
    "\n",
    "metric_non = []    \n",
    "for i in range(bag_q_non.shape[0]):\n",
    "    metric_non.append(cosine(bag_q_non[i], bag_s_non[i]))\n",
    "plt.hist(metric_non, bins = 'auto')\n",
    "plt.title(\"Histogram of cosine metric between vectors obtained by BoW without preprocessing\")\n",
    "plt.xlabel('Cosine metric')\n",
    "plt.ylabel('Frequency')\n",
    "plt.show()"
   ]
  },
  {
   "cell_type": "code",
   "execution_count": 13,
   "metadata": {},
   "outputs": [
    {
     "name": "stdout",
     "output_type": "stream",
     "text": [
      "Mean of cosine metric for BoW with preprocessing =  0.4757569940049886\n",
      "Mean of cosine metric for BoW without preprocessing =  0.452381327998961\n"
     ]
    },
    {
     "data": {
      "text/plain": [
       "Ttest_indResult(statistic=1.1953102240731248, pvalue=0.23262772295379774)"
      ]
     },
     "execution_count": 13,
     "metadata": {},
     "output_type": "execute_result"
    }
   ],
   "source": [
    "#use t-test to define are those options equal or not\n",
    "\n",
    "print(\"Mean of cosine metric for BoW with preprocessing = \", np.mean(metric))\n",
    "print(\"Mean of cosine metric for BoW without preprocessing = \", np.mean(metric_non))\n",
    "stats.ttest_ind(metric, metric_non)"
   ]
  },
  {
   "cell_type": "markdown",
   "metadata": {},
   "source": [
    "Pvalue shows that we can't regect null hypothesis about equality of those arrays. So, there are no difference, make preprocessing or not."
   ]
  },
  {
   "cell_type": "code",
   "execution_count": 16,
   "metadata": {},
   "outputs": [],
   "source": [
    "#second method\n",
    "#Word2Vec \n",
    "\n",
    "#using Google News 300-dimensional pre-trained word embeddings\n",
    "Vec = gensim.models.KeyedVectors.load_word2vec_format('.\\GoogleNews-vectors-negative300.bin.gz', binary=True)"
   ]
  },
  {
   "cell_type": "code",
   "execution_count": 17,
   "metadata": {},
   "outputs": [],
   "source": [
    "#export model\n",
    "model = None\n",
    "try:\n",
    "    model = Vec.wv\n",
    "    del Vec\n",
    "except Exception:\n",
    "    model = Vec"
   ]
  },
  {
   "cell_type": "code",
   "execution_count": 50,
   "metadata": {},
   "outputs": [
    {
     "data": {
      "image/png": "[encoded data removed]",
      "text/plain": [
       "<matplotlib.figure.Figure at 0x19c11849a90>"
      ]
     },
     "metadata": {},
     "output_type": "display_data"
    }
   ],
   "source": [
    "#sentences with preprocessing\n",
    "\n",
    "#using mean\n",
    "def getfeat(data):\n",
    "    feat = []\n",
    "    for i in range(len(data)):\n",
    "        words = (data[i]).split(\" \")\n",
    "        temp = []\n",
    "        for w in words:\n",
    "            if w in model:\n",
    "                temp.append(model[w])\n",
    "        if temp:\n",
    "            temp = (np.array(temp)).mean(0)\n",
    "        else:\n",
    "            temp = list(np.zeros(300))\n",
    "        feat.append(temp)\n",
    "    return feat\n",
    "\n",
    "wordsq = tokenization(questions)\n",
    "wordss = tokenization(synonims)\n",
    "textq = join_fun(wordsq)\n",
    "texts = join_fun(wordss)\n",
    "qset = getfeat(textq)\n",
    "sset = getfeat(texts)\n",
    "\n",
    "metric_word2vec = []    \n",
    "for i in range(len(q_set)):\n",
    "    metric_word2vec.append(cosine(qset[i], sset[i]))\n",
    "    \n",
    "plt.hist(metric_word2vec, bins='auto')\n",
    "plt.title(\"Histogram of cosine metric between vectors obtained by Word2Vec with preprocessing\")\n",
    "plt.xlabel('Cosine metric')\n",
    "plt.ylabel('Frequency')\n",
    "plt.show()"
   ]
  },
  {
   "cell_type": "code",
   "execution_count": 88,
   "metadata": {},
   "outputs": [
    {
     "data": {
      "image/png": "[encoded data removed]",
      "text/plain": [
       "<matplotlib.figure.Figure at 0x19c11ccbf60>"
      ]
     },
     "metadata": {},
     "output_type": "display_data"
    }
   ],
   "source": [
    "#sentences without preprocessing\n",
    "\n",
    "def get_feat(data):\n",
    "    feat = []\n",
    "    for i in data.index:\n",
    "        words = (data.loc[i]).split(\" \")\n",
    "        temp = []\n",
    "        for w in words:\n",
    "            if w in model:\n",
    "                temp.append(model[w])\n",
    "        if temp:\n",
    "            temp = (np.array(temp)).mean(0)\n",
    "        else:\n",
    "            temp = list(np.zeros(300))\n",
    "        feat.append(temp)\n",
    "    return feat\n",
    "\n",
    "q_set = get_feat(questions)\n",
    "s_set = get_feat(synonims)\n",
    "\n",
    "metric_word2vec_non = []    \n",
    "for i in range(len(q_set)):\n",
    "    metric_word2vec_non.append(cosine(q_set[i], s_set[i]))\n",
    "    \n",
    "plt.hist(metric_word2vec_non, bins='auto')\n",
    "plt.title(\"Histogram of cosine metric between vectors obtained by Word2Vec without preprocessing\")\n",
    "plt.xlabel('Cosine metric')\n",
    "plt.ylabel('Frequency')\n",
    "plt.show()"
   ]
  },
  {
   "cell_type": "code",
   "execution_count": 42,
   "metadata": {},
   "outputs": [
    {
     "name": "stdout",
     "output_type": "stream",
     "text": [
      "Mean of cosine metric for Word2Vec with preprocessing =  0.7589791623658809\n",
      "Mean of cosine metric for Word2Vec without preprocessing =  0.7981144958145697\n"
     ]
    },
    {
     "data": {
      "text/plain": [
       "Ttest_indResult(statistic=-3.7642934520429976, pvalue=0.00019033594653960117)"
      ]
     },
     "execution_count": 42,
     "metadata": {},
     "output_type": "execute_result"
    }
   ],
   "source": [
    "#use t-test to define are those options equal or not\n",
    "\n",
    "print(\"Mean of cosine metric for Word2Vec with preprocessing = \", np.mean(metric_word2vec))\n",
    "print(\"Mean of cosine metric for Word2Vec without preprocessing = \", np.mean(metric_word2vec_non))\n",
    "stats.ttest_ind(metric_word2vec, metric_word2vec_non)"
   ]
  },
  {
   "cell_type": "markdown",
   "metadata": {},
   "source": [
    "Pvalue shows that we can regect null hypothesis about equality of those arrays. So, there are difference, make preprocessing or not. Method without preprocessing is better, because it has bigger mean of cosine metric."
   ]
  },
  {
   "cell_type": "code",
   "execution_count": 96,
   "metadata": {},
   "outputs": [],
   "source": [
    "#using median \n",
    "\n",
    "#sentences with preprocessing\n",
    "def getfeat_med(data):\n",
    "    feat = []\n",
    "    for i in range(len(data)):\n",
    "        words = (data[i]).split(\" \")\n",
    "        temp = []\n",
    "        for w in words:\n",
    "            if w in model:\n",
    "                temp.append(model[w])\n",
    "        if temp:\n",
    "            temp = np.median(np.array(temp), axis=0)\n",
    "        else:\n",
    "            temp = list(np.zeros(300))\n",
    "        feat.append(temp)\n",
    "    return feat\n",
    "\n",
    "wordsq = tokenization(questions)\n",
    "wordss = tokenization(synonims)\n",
    "textq = join_fun(wordsq)\n",
    "texts = join_fun(wordss)\n",
    "qset = getfeat_med(textq)\n",
    "sset = getfeat_med(texts)"
   ]
  },
  {
   "cell_type": "code",
   "execution_count": 98,
   "metadata": {},
   "outputs": [
    {
     "data": {
      "image/png": "[encoded data removed]",
      "text/plain": [
       "<matplotlib.figure.Figure at 0x19c11e20be0>"
      ]
     },
     "metadata": {},
     "output_type": "display_data"
    }
   ],
   "source": [
    "metric_word2vec_med = []    \n",
    "for i in range(len(qset)):\n",
    "    metric_word2vec_med.append(cosine(qset[i], sset[i]))\n",
    "    \n",
    "plt.hist(metric_word2vec_med, bins='auto')\n",
    "plt.title(\"Histogram of cosine metric between vectors obtained by Word2Vec (median) with preprocessing\")\n",
    "plt.xlabel('Cosine metric')\n",
    "plt.ylabel('Frequency')\n",
    "plt.show()"
   ]
  },
  {
   "cell_type": "code",
   "execution_count": 99,
   "metadata": {},
   "outputs": [
    {
     "data": {
      "image/png": "[encoded data removed]",
      "text/plain": [
       "<matplotlib.figure.Figure at 0x19c11d39748>"
      ]
     },
     "metadata": {},
     "output_type": "display_data"
    }
   ],
   "source": [
    "#sentences without preprocessing\n",
    "\n",
    "def get_feat_med(data):\n",
    "    feat = []\n",
    "    for i in data.index:\n",
    "        words = (data.loc[i]).split(\" \")\n",
    "        temp = []\n",
    "        for w in words:\n",
    "            if w in model:\n",
    "                temp.append(model[w])\n",
    "        if temp:\n",
    "            temp = np.median(np.array(temp), axis=0)\n",
    "        else:\n",
    "            temp = list(np.zeros(300))\n",
    "        feat.append(temp)\n",
    "    return feat\n",
    "\n",
    "q_set_ = get_feat_med(questions)\n",
    "s_set_ = get_feat_med(synonims)\n",
    "\n",
    "metric_word2vec_non_med = []    \n",
    "for i in range(len(q_set_)):\n",
    "    metric_word2vec_non_med.append(cosine(q_set_[i], s_set_[i]))\n",
    "    \n",
    "plt.hist(metric_word2vec_non_med, bins='auto')\n",
    "plt.title(\"Histogram of cosine metric between vectors obtained by Word2Vec (median) without preprocessing\")\n",
    "plt.xlabel('Cosine metric')\n",
    "plt.ylabel('Frequency')\n",
    "plt.show()"
   ]
  },
  {
   "cell_type": "code",
   "execution_count": 100,
   "metadata": {},
   "outputs": [
    {
     "name": "stdout",
     "output_type": "stream",
     "text": [
      "Mean of cosine metric for Word2Vec (median) with preprocessing =  0.6801810921114195\n",
      "Mean of cosine metric for Word2Vec (median) without preprocessing =  0.7452709643373187\n"
     ]
    },
    {
     "data": {
      "text/plain": [
       "Ttest_indResult(statistic=-5.697435825024312, pvalue=2.26566273031553e-08)"
      ]
     },
     "execution_count": 100,
     "metadata": {},
     "output_type": "execute_result"
    }
   ],
   "source": [
    "#use t-test to define are those options equal or not\n",
    "\n",
    "print(\"Mean of cosine metric for Word2Vec (median) with preprocessing = \", np.mean(metric_word2vec_med))\n",
    "print(\"Mean of cosine metric for Word2Vec (median) without preprocessing = \", np.mean(metric_word2vec_non_med))\n",
    "stats.ttest_ind(metric_word2vec_med, metric_word2vec_non_med)"
   ]
  },
  {
   "cell_type": "markdown",
   "metadata": {},
   "source": [
    "Pvalue shows that we can regect null hypothesis about equality of those arrays. So, there are difference, make preprocessing or not. Method without preprocessing is better, because it has bigger mean of cosine metric."
   ]
  },
  {
   "cell_type": "code",
   "execution_count": 104,
   "metadata": {},
   "outputs": [
    {
     "data": {
      "image/png": "[encoded data removed]",
      "text/plain": [
       "<matplotlib.figure.Figure at 0x19c13131710>"
      ]
     },
     "metadata": {},
     "output_type": "display_data"
    }
   ],
   "source": [
    "#using 25 and 75 quantiles \n",
    "\n",
    "#sentences with preprocessing\n",
    "def getfeat_quan(data, q):\n",
    "    feat = []\n",
    "    for i in range(len(data)):\n",
    "        words = (data[i]).split(\" \")\n",
    "        temp = []\n",
    "        for w in words:\n",
    "            if w in model:\n",
    "                temp.append(model[w])\n",
    "        if temp:\n",
    "            temp = np.percentile(np.array(temp), q, axis=0)\n",
    "        else:\n",
    "            temp = list(np.zeros(300))\n",
    "        feat.append(temp)\n",
    "    return feat\n",
    "\n",
    "wordsq_q = tokenization(questions)\n",
    "wordss_q = tokenization(synonims)\n",
    "textq_q = join_fun(wordsq_q)\n",
    "texts_q = join_fun(wordss_q)\n",
    "qset_q = getfeat_quan(textq_q, 25)\n",
    "sset_q = getfeat_quan(texts_q, 25)\n",
    "metric_word2vec_q25 = []    \n",
    "for i in range(len(qset_q)):\n",
    "    metric_word2vec_q25.append(cosine(qset_q[i], sset_q[i]))\n",
    "plt.hist(metric_word2vec_q25, bins='auto')\n",
    "plt.title(\"Histogram of cosine metric between vectors obtained by Word2Vec (25 quantile) with preprocessing\")\n",
    "plt.xlabel('Cosine metric')\n",
    "plt.ylabel('Frequency')\n",
    "plt.show()"
   ]
  },
  {
   "cell_type": "code",
   "execution_count": 105,
   "metadata": {},
   "outputs": [
    {
     "data": {
      "image/png": "[encoded data removed]",
      "text/plain": [
       "<matplotlib.figure.Figure at 0x19c1326d0b8>"
      ]
     },
     "metadata": {},
     "output_type": "display_data"
    }
   ],
   "source": [
    "qset_q = getfeat_quan(textq_q, 75)\n",
    "sset_q = getfeat_quan(texts_q, 75)\n",
    "metric_word2vec_q75 = []    \n",
    "for i in range(len(qset_q)):\n",
    "    metric_word2vec_q75.append(cosine(qset_q[i], sset_q[i]))\n",
    "plt.hist(metric_word2vec_q75, bins='auto')\n",
    "plt.title(\"Histogram of cosine metric between vectors obtained by Word2Vec (75 quantile) with preprocessing\")\n",
    "plt.xlabel('Cosine metric')\n",
    "plt.ylabel('Frequency')\n",
    "plt.show()"
   ]
  },
  {
   "cell_type": "code",
   "execution_count": 106,
   "metadata": {},
   "outputs": [
    {
     "data": {
      "image/png": "[encoded data removed]",
      "text/plain": [
       "<matplotlib.figure.Figure at 0x19c13216ef0>"
      ]
     },
     "metadata": {},
     "output_type": "display_data"
    }
   ],
   "source": [
    "#sentences without preprocessing\n",
    "\n",
    "def get_feat_quan(data, q):\n",
    "    feat = []\n",
    "    for i in data.index:\n",
    "        words = (data.loc[i]).split(\" \")\n",
    "        temp = []\n",
    "        for w in words:\n",
    "            if w in model:\n",
    "                temp.append(model[w])\n",
    "        if temp:\n",
    "            temp = np.percentile(np.array(temp), q, axis=0)\n",
    "        else:\n",
    "            temp = list(np.zeros(300))\n",
    "        feat.append(temp)\n",
    "    return feat\n",
    "\n",
    "q_set_q = get_feat_quan(questions, 25)\n",
    "s_set_q = get_feat_quan(synonims, 25)\n",
    "\n",
    "metric_word2vec_non_q25 = []    \n",
    "for i in range(len(q_set_q)):\n",
    "    metric_word2vec_non_q25.append(cosine(q_set_q[i], s_set_q[i]))\n",
    "    \n",
    "plt.hist(metric_word2vec_non_q25, bins='auto')\n",
    "plt.title(\"Histogram of cosine metric between vectors obtained by Word2Vec (25 quantile) without preprocessing\")\n",
    "plt.xlabel('Cosine metric')\n",
    "plt.ylabel('Frequency')\n",
    "plt.show()"
   ]
  },
  {
   "cell_type": "code",
   "execution_count": 107,
   "metadata": {},
   "outputs": [
    {
     "data": {
      "image/png": "[encoded data removed]",
      "text/plain": [
       "<matplotlib.figure.Figure at 0x19c132df860>"
      ]
     },
     "metadata": {},
     "output_type": "display_data"
    }
   ],
   "source": [
    "q_set_q = get_feat_quan(questions, 75)\n",
    "s_set_q = get_feat_quan(synonims, 75)\n",
    "\n",
    "metric_word2vec_non_q75 = []    \n",
    "for i in range(len(q_set_q)):\n",
    "    metric_word2vec_non_q75.append(cosine(q_set_q[i], s_set_q[i]))\n",
    "    \n",
    "plt.hist(metric_word2vec_non_q75, bins='auto')\n",
    "plt.title(\"Histogram of cosine metric between vectors obtained by Word2Vec (75 quantile) without preprocessing\")\n",
    "plt.xlabel('Cosine metric')\n",
    "plt.ylabel('Frequency')\n",
    "plt.show()"
   ]
  },
  {
   "cell_type": "code",
   "execution_count": 110,
   "metadata": {},
   "outputs": [
    {
     "name": "stdout",
     "output_type": "stream",
     "text": [
      "Mean of cosine metric for Word2Vec (25 quantile) with preprocessing =  0.803622869626293\n",
      "Mean of cosine metric for Word2Vec (25 quantile) without preprocessing =  0.837823932739729\n"
     ]
    },
    {
     "data": {
      "text/plain": [
       "Ttest_indResult(statistic=-4.494612226271484, pvalue=8.983109649435873e-06)"
      ]
     },
     "execution_count": 110,
     "metadata": {},
     "output_type": "execute_result"
    }
   ],
   "source": [
    "#use t-test to define are those options equal or not\n",
    "\n",
    "print(\"Mean of cosine metric for Word2Vec (25 quantile) with preprocessing = \", np.mean(metric_word2vec_q25))\n",
    "print(\"Mean of cosine metric for Word2Vec (25 quantile) without preprocessing = \", np.mean(metric_word2vec_non_q25))\n",
    "stats.ttest_ind(metric_word2vec_q25, metric_word2vec_non_q25)"
   ]
  },
  {
   "cell_type": "markdown",
   "metadata": {},
   "source": [
    "Pvalue shows that we can regect null hypothesis about equality of those arrays. So, there are difference, make preprocessing or not. Method without preprocessing is better, because it has bigger mean of cosine metric."
   ]
  },
  {
   "cell_type": "code",
   "execution_count": 111,
   "metadata": {},
   "outputs": [
    {
     "name": "stdout",
     "output_type": "stream",
     "text": [
      "Mean of cosine metric for Word2Vec (75 quantile) with preprocessing =  0.7986186998719503\n",
      "Mean of cosine metric for Word2Vec (75 quantile) without preprocessing =  0.8316542585905048\n"
     ]
    },
    {
     "data": {
      "text/plain": [
       "Ttest_indResult(statistic=-4.245362452414039, pvalue=2.6784110978366497e-05)"
      ]
     },
     "execution_count": 111,
     "metadata": {},
     "output_type": "execute_result"
    }
   ],
   "source": [
    "#use t-test to define are those options equal or not\n",
    "\n",
    "print(\"Mean of cosine metric for Word2Vec (75 quantile) with preprocessing = \", np.mean(metric_word2vec_q75))\n",
    "print(\"Mean of cosine metric for Word2Vec (75 quantile) without preprocessing = \", np.mean(metric_word2vec_non_q75))\n",
    "stats.ttest_ind(metric_word2vec_q75, metric_word2vec_non_q75)"
   ]
  },
  {
   "cell_type": "markdown",
   "metadata": {},
   "source": [
    "Pvalue shows that we can regect null hypothesis about equality of those arrays. So, there are difference, make preprocessing or not. Method without preprocessing is better, because it has bigger mean of cosine metric."
   ]
  },
  {
   "cell_type": "markdown",
   "metadata": {},
   "source": [
    "Now, we know that Word2Vec is better that BoW. For Word2Vec we define that for all cases data without preprocessing gives better results. Now, compare 4 way of calculation in Word2Vec."
   ]
  },
  {
   "cell_type": "code",
   "execution_count": 131,
   "metadata": {},
   "outputs": [
    {
     "name": "stdout",
     "output_type": "stream",
     "text": [
      "Mean of cosine metric for Word2Vec (mean) without preprocessing =  0.7981144958145697\n",
      "Mean of cosine metric for Word2Vec (median) without preprocessing =  0.7452709643373187\n",
      "Mean of cosine metric for Word2Vec (25 quantile) without preprocessing =  0.837823932739729\n",
      "Mean of cosine metric for Word2Vec (75 quantile) without preprocessing =  0.8316542585905048\n"
     ]
    }
   ],
   "source": [
    "print(\"Mean of cosine metric for Word2Vec (mean) without preprocessing = \", np.mean(metric_word2vec_non))\n",
    "print(\"Mean of cosine metric for Word2Vec (median) without preprocessing = \", np.mean(metric_word2vec_non_med))\n",
    "print(\"Mean of cosine metric for Word2Vec (25 quantile) without preprocessing = \", np.mean(metric_word2vec_non_q25))\n",
    "print(\"Mean of cosine metric for Word2Vec (75 quantile) without preprocessing = \", np.mean(metric_word2vec_non_q75))"
   ]
  },
  {
   "cell_type": "markdown",
   "metadata": {},
   "source": [
    "The biggest mean of cosine metric is when we using 25 quantile."
   ]
  },
  {
   "cell_type": "markdown",
   "metadata": {},
   "source": [
    "Results:\n",
    "    - Word2Vec is better than BoW;\n",
    "    - Results for data without preprocessing is better than with preprocessing;\n",
    "    - To calculate vector of sentence, taking 25 quantile of vectors of words from this sentence gives bigger mean of cosine metric than mean, median and 75 quantile."
   ]
  },
  {
   "cell_type": "markdown",
   "metadata": {},
   "source": [
    "Check accuracy for those methods"
   ]
  },
  {
   "cell_type": "code",
   "execution_count": 154,
   "metadata": {},
   "outputs": [
    {
     "name": "stdout",
     "output_type": "stream",
     "text": [
      "For quantile:  0 , accuracy of model:  0.3302325581395349\n",
      "For quantile:  5 , accuracy of model:  0.34418604651162793\n",
      "For quantile:  10 , accuracy of model:  0.3674418604651163\n",
      "For quantile:  15 , accuracy of model:  0.3627906976744186\n",
      "For quantile:  20 , accuracy of model:  0.3674418604651163\n",
      "For quantile:  25 , accuracy of model:  0.39069767441860465\n",
      "For quantile:  30 , accuracy of model:  0.3581395348837209\n",
      "For quantile:  35 , accuracy of model:  0.3302325581395349\n",
      "For quantile:  40 , accuracy of model:  0.34418604651162793\n",
      "For quantile:  45 , accuracy of model:  0.3488372093023256\n",
      "For quantile:  50 , accuracy of model:  0.3209302325581395\n",
      "For quantile:  55 , accuracy of model:  0.3395348837209302\n",
      "For quantile:  60 , accuracy of model:  0.3488372093023256\n",
      "For quantile:  65 , accuracy of model:  0.34418604651162793\n",
      "For quantile:  70 , accuracy of model:  0.35348837209302325\n",
      "For quantile:  75 , accuracy of model:  0.33488372093023255\n",
      "For quantile:  80 , accuracy of model:  0.3209302325581395\n",
      "For quantile:  85 , accuracy of model:  0.3395348837209302\n",
      "For quantile:  90 , accuracy of model:  0.3674418604651163\n",
      "For quantile:  95 , accuracy of model:  0.3581395348837209\n"
     ]
    }
   ],
   "source": [
    "#checking different quantiles\n",
    "\n",
    "def sent_feat(sent, i):    \n",
    "    words = sent.split(\" \")\n",
    "    temp = []\n",
    "    for w in words:\n",
    "        if w in model:\n",
    "            temp.append(model[w])\n",
    "    if temp:\n",
    "        temp = np.percentile(np.array(temp), i, axis=0)\n",
    "    else:\n",
    "        temp = list(np.zeros(300))\n",
    "    return np.array(temp)\n",
    "\n",
    "for i in range(0, 100, 5):\n",
    "    pred_synonims = []\n",
    "    for quest in questions:\n",
    "        quest_vector = sent_feat(quest, i)\n",
    "        better_syn = ''\n",
    "        max_cos = -100\n",
    "        for syn in synonims:\n",
    "            syn_vector = sent_feat(syn, i)\n",
    "            cos = cosine(quest_vector, syn_vector)\n",
    "            if cos > max_cos:\n",
    "                max_cos = cos\n",
    "                better_syn = syn    \n",
    "        pred_synonims.append(better_syn)\n",
    "    print(\"For quantile: \", i, \", accuracy of model: \", np.mean(pred_synonims == synonims))"
   ]
  },
  {
   "cell_type": "markdown",
   "metadata": {},
   "source": [
    "For 25 quantile accuracy is the best."
   ]
  },
  {
   "cell_type": "code",
   "execution_count": 155,
   "metadata": {},
   "outputs": [
    {
     "name": "stdout",
     "output_type": "stream",
     "text": [
      "Accuracy of model:  0.42790697674418604\n"
     ]
    }
   ],
   "source": [
    "def sent_feat(sent):    \n",
    "    words = sent.split(\" \")\n",
    "    temp = []\n",
    "    for w in words:\n",
    "        if w in model:\n",
    "            temp.append(model[w])\n",
    "    if temp:\n",
    "        #temp = (np.array(temp)).mean(0)\n",
    "        #temp = np.median(np.array(temp), axis=0)\n",
    "        #temp = np.percentile(np.array(temp), 25, axis=0)\n",
    "        #combinations:\n",
    "        temp = list((np.array(temp)).mean(0)) + list(np.percentile(np.array(temp), 25, axis=0))\n",
    "        #temp = list((np.array(temp)).mean(0)) + list(np.median(np.array(temp), axis=0))\n",
    "        #temp = list(np.median(np.array(temp), axis=0)) + list(np.percentile(np.array(temp), 25, axis=0))\n",
    "        #temp = list((np.array(temp)).mean(0)) + list(np.percentile(np.array(temp), 25, axis=0)) + list(np.median(np.array(temp), axis=0))\n",
    "    else:\n",
    "        temp = list(np.zeros(300))\n",
    "    return np.array(temp)\n",
    "\n",
    "pred_synonims = []\n",
    "for quest in questions:\n",
    "    quest_vector = sent_feat(quest)\n",
    "    better_syn = ''\n",
    "    max_cos = -100\n",
    "    for syn in synonims:\n",
    "        syn_vector = sent_feat(syn)\n",
    "        cos = cosine(quest_vector, syn_vector)\n",
    "        if cos > max_cos:\n",
    "            max_cos = cos\n",
    "            better_syn = syn    \n",
    "    pred_synonims.append(better_syn)\n",
    "    \n",
    "print(\"Accuracy of model: \", np.mean(pred_synonims == synonims))"
   ]
  },
  {
   "cell_type": "markdown",
   "metadata": {},
   "source": [
    "Results for different variants:\n",
    "\n",
    "Accuracy of model, 25 quantile:  0.39069767441860465\n",
    "\n",
    "Accuracy of model, median:  0.3209302325581395\n",
    "\n",
    "Accuracy of model, mean:  0.40930232558139534\n",
    "\n",
    "Accuracy of model, mean + 25 quantile:  0.42790697674418604\n",
    "\n",
    "Accuracy of model, mean + median:  0.3953488372093023\n",
    "\n",
    "Accuracy of model, median + 25 quantile:  0.3674418604651163\n",
    "\n",
    "Accuracy of model, mean + median + 25 quantile:  0.4186046511627907"
   ]
  },
  {
   "cell_type": "markdown",
   "metadata": {},
   "source": [
    "Combination of mean and 25 quantile as features (we work with 600 dimensional vector, not 300d), gives the best accuracy: 0.42790697674418604"
   ]
  }
 ],
 "metadata": {
  "kernelspec": {
   "display_name": "Python 3",
   "language": "python",
   "name": "python3"
  },
  "language_info": {
   "codemirror_mode": {
    "name": "ipython",
    "version": 3
   },
   "file_extension": ".py",
   "mimetype": "text/x-python",
   "name": "python",
   "nbconvert_exporter": "python",
   "pygments_lexer": "ipython3",
   "version": "3.6.4"
  }
 },
 "nbformat": 4,
 "nbformat_minor": 2
}
